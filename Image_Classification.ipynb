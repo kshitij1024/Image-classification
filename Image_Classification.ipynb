{
  "cells": [
    {
      "cell_type": "markdown",
      "metadata": {
        "id": "view-in-github",
        "colab_type": "text"
      },
      "source": [
        "<a href=\"https://colab.research.google.com/github/kshitij1024/Image-classification/blob/main/Image_Classification.ipynb\" target=\"_parent\"><img src=\"https://colab.research.google.com/assets/colab-badge.svg\" alt=\"Open In Colab\"/></a>"
      ]
    },
    {
      "cell_type": "code",
      "execution_count": null,
      "metadata": {
        "colab": {
          "base_uri": "https://localhost:8080/"
        },
        "id": "y8bHwDqE3HEB",
        "outputId": "f4dbad23-71d3-414f-c7ee-952ca9e4cfda"
      },
      "outputs": [
        {
          "output_type": "stream",
          "name": "stdout",
          "text": [
            "Looking in indexes: https://pypi.org/simple, https://us-python.pkg.dev/colab-wheels/public/simple/\n",
            "Requirement already satisfied: ipython-autotime in /usr/local/lib/python3.7/dist-packages (0.3.1)\n",
            "Requirement already satisfied: ipython in /usr/local/lib/python3.7/dist-packages (from ipython-autotime) (5.5.0)\n",
            "Requirement already satisfied: setuptools>=18.5 in /usr/local/lib/python3.7/dist-packages (from ipython->ipython-autotime) (57.4.0)\n",
            "Requirement already satisfied: prompt-toolkit<2.0.0,>=1.0.4 in /usr/local/lib/python3.7/dist-packages (from ipython->ipython-autotime) (1.0.18)\n",
            "Requirement already satisfied: traitlets>=4.2 in /usr/local/lib/python3.7/dist-packages (from ipython->ipython-autotime) (5.1.1)\n",
            "Requirement already satisfied: pexpect in /usr/local/lib/python3.7/dist-packages (from ipython->ipython-autotime) (4.8.0)\n",
            "Requirement already satisfied: decorator in /usr/local/lib/python3.7/dist-packages (from ipython->ipython-autotime) (4.4.2)\n",
            "Requirement already satisfied: simplegeneric>0.8 in /usr/local/lib/python3.7/dist-packages (from ipython->ipython-autotime) (0.8.1)\n",
            "Requirement already satisfied: pygments in /usr/local/lib/python3.7/dist-packages (from ipython->ipython-autotime) (2.6.1)\n",
            "Requirement already satisfied: pickleshare in /usr/local/lib/python3.7/dist-packages (from ipython->ipython-autotime) (0.7.5)\n",
            "Requirement already satisfied: six>=1.9.0 in /usr/local/lib/python3.7/dist-packages (from prompt-toolkit<2.0.0,>=1.0.4->ipython->ipython-autotime) (1.15.0)\n",
            "Requirement already satisfied: wcwidth in /usr/local/lib/python3.7/dist-packages (from prompt-toolkit<2.0.0,>=1.0.4->ipython->ipython-autotime) (0.2.5)\n",
            "Requirement already satisfied: ptyprocess>=0.5 in /usr/local/lib/python3.7/dist-packages (from pexpect->ipython->ipython-autotime) (0.7.0)\n",
            "The autotime extension is already loaded. To reload it, use:\n",
            "  %reload_ext autotime\n",
            "time: 3.04 s (started: 2022-07-12 04:28:14 +00:00)\n"
          ]
        }
      ],
      "source": [
        "!pip install ipython-autotime\n",
        "%load_ext autotime"
      ]
    },
    {
      "cell_type": "code",
      "source": [
        "from google.colab import drive\n",
        "drive.mount('/content/drive')"
      ],
      "metadata": {
        "id": "RwemkBt6DhoN"
      },
      "execution_count": null,
      "outputs": []
    },
    {
      "cell_type": "code",
      "execution_count": null,
      "metadata": {
        "id": "qJSuTDFzMi82",
        "colab": {
          "base_uri": "https://localhost:8080/"
        },
        "outputId": "fa973b5b-55af-4b95-de3d-46456741ee2f"
      },
      "outputs": [
        {
          "output_type": "stream",
          "name": "stdout",
          "text": [
            "time: 1.02 ms (started: 2022-07-12 04:28:18 +00:00)\n"
          ]
        }
      ],
      "source": [
        "# Data : Images\n",
        "# 1. Download Images manually from Google.\n",
        "# 2. Download Dataset from Kaggle.com\n",
        "# 3. Build a Image web Crawler\n",
        "# 4. Use python libraries to scrape the images (currently using)."
      ]
    },
    {
      "cell_type": "code",
      "execution_count": null,
      "metadata": {
        "colab": {
          "base_uri": "https://localhost:8080/"
        },
        "id": "i7GN_qPmyask",
        "outputId": "24645ef1-95cb-4189-bc67-bf9ebed7b6d9"
      },
      "outputs": [
        {
          "output_type": "stream",
          "name": "stdout",
          "text": [
            "Looking in indexes: https://pypi.org/simple, https://us-python.pkg.dev/colab-wheels/public/simple/\n",
            "Requirement already satisfied: bing-image-downloader in /usr/local/lib/python3.7/dist-packages (1.1.2)\n",
            "time: 4.18 s (started: 2022-07-12 04:28:35 +00:00)\n"
          ]
        }
      ],
      "source": [
        "!pip install bing-image-downloader"
      ]
    },
    {
      "cell_type": "code",
      "execution_count": null,
      "metadata": {
        "colab": {
          "base_uri": "https://localhost:8080/"
        },
        "id": "XROzJl8By0ze",
        "outputId": "72a27722-cf1f-4b99-d90a-e6a43f813006"
      },
      "outputs": [
        {
          "output_type": "stream",
          "name": "stdout",
          "text": [
            "mkdir: cannot create directory ‘IMAGES’: File exists\n",
            "time: 129 ms (started: 2022-07-12 04:28:39 +00:00)\n"
          ]
        }
      ],
      "source": [
        "!mkdir IMAGES"
      ]
    },
    {
      "cell_type": "code",
      "execution_count": null,
      "metadata": {
        "colab": {
          "base_uri": "https://localhost:8080/"
        },
        "id": "FhfNTb5yzJC4",
        "outputId": "bd0737aa-bed3-4693-8ae1-d1152e9f4fb5"
      },
      "outputs": [
        {
          "output_type": "stream",
          "name": "stdout",
          "text": [
            "[%] Downloading Images to /content/IMAGES/Sunflower\n",
            "\n",
            "\n",
            "[!!]Indexing page: 1\n",
            "\n",
            "[%] Indexed 9 Images on Page 1.\n",
            "\n",
            "===============================================\n",
            "\n",
            "[%] Downloading Image #1 from http://www.wallpapers13.com/wp-content/uploads/2015/12/Awesome-sunflower-wallpaper-012-1280x960.jpg\n",
            "[%] File Downloaded !\n",
            "\n",
            "[%] Downloading Image #2 from https://i.pinimg.com/736x/6c/47/07/6c470769c87108c17356a92f5edf3754.jpg\n",
            "[%] File Downloaded !\n",
            "\n",
            "[%] Downloading Image #3 from https://wallpapershome.com/images/wallpapers/sunflower-3840x2160-5k-4k-wallpaper-yellow-12582.jpg\n",
            "[%] File Downloaded !\n",
            "\n",
            "[%] Downloading Image #4 from https://i.pinimg.com/736x/79/a4/67/79a46708f4ec1102f21fc13d1456e2b7--field-of-sunflowers-sunflower-print.jpg\n",
            "[%] File Downloaded !\n",
            "\n",
            "[%] Downloading Image #5 from http://www.awesomeinventions.com/wp-content/uploads/2015/04/plants-sunflower.jpg\n",
            "[%] File Downloaded !\n",
            "\n",
            "[%] Downloading Image #6 from https://www.feminatalk.com/wp-content/uploads/2018/05/Names-of-Flowers-in-Alphabetical-Order00014.jpg\n",
            "[%] File Downloaded !\n",
            "\n",
            "[%] Downloading Image #7 from https://d29jd5m3t61t9.cloudfront.net/flowersforums.com/images/fbfiles/images/image-22b28cc51c24738272039f2e14b61e64_v_1434033011.jpg\n",
            "[%] File Downloaded !\n",
            "\n",
            "[%] Downloading Image #8 from https://coolcreativity.com/wp-content/uploads/2016/06/Crochet-The-Out-About-Backpack-with-Free-Pattern.jpg\n",
            "[%] File Downloaded !\n",
            "\n",
            "[%] Downloading Image #9 from https://i.pinimg.com/736x/9f/67/a9/9f67a93eee5dd467c9192b05f5dfcf42.jpg\n",
            "[%] File Downloaded !\n",
            "\n",
            "\n",
            "\n",
            "[!!]Indexing page: 2\n",
            "\n",
            "[%] Indexed 9 Images on Page 2.\n",
            "\n",
            "===============================================\n",
            "\n",
            "\n",
            "\n",
            "[!!]Indexing page: 3\n",
            "\n",
            "[%] Indexed 8 Images on Page 3.\n",
            "\n",
            "===============================================\n",
            "\n",
            "[%] Downloading Image #10 from https://i.pinimg.com/736x/76/5c/d9/765cd96b195a6818bbca6175950d5453.jpg\n",
            "[%] File Downloaded !\n",
            "\n",
            "[%] Downloading Image #11 from https://www.bestbride101.com/wp-content/uploads/2014/05/diy-wedding-ideas-10.jpg\n",
            "[%] File Downloaded !\n",
            "\n",
            "[%] Downloading Image #12 from https://www.wallpapers13.com/wp-content/uploads/2018/03/Lotus-flower-with-bright-purple-color-flora-waterlily-leaf-wildflower-Desktop-HD-Wallpapers-for-mobile-phones-and-computer-3840x2400.jpg\n",
            "[%] File Downloaded !\n",
            "\n",
            "[%] Downloading Image #13 from https://www.feminatalk.com/wp-content/uploads/2018/05/Names-of-Flowers-in-Alphabetical-Order00005.jpg\n",
            "[%] File Downloaded !\n",
            "\n",
            "[%] Downloading Image #14 from https://i.pinimg.com/736x/e5/be/89/e5be89d348134338634d255e231c71b5.jpg\n",
            "[%] File Downloaded !\n",
            "\n",
            "[%] Downloading Image #15 from http://autenwideplankflooring.com/wp-content/uploads/2020/03/auten-european-oil-white-oak-4-e1584971905988.jpg\n",
            "[%] File Downloaded !\n",
            "\n",
            "[%] Downloading Image #16 from https://www.feminatalk.com/wp-content/uploads/2018/05/Names-of-Flowers-in-Alphabetical-Order00009.jpg\n",
            "[%] File Downloaded !\n",
            "\n",
            "[%] Downloading Image #17 from https://www.feminatalk.com/wp-content/uploads/2018/05/Names-of-Flowers-in-Alphabetical-Order00012.jpg\n",
            "[%] File Downloaded !\n",
            "\n",
            "\n",
            "\n",
            "[!!]Indexing page: 4\n",
            "\n",
            "[%] Indexed 7 Images on Page 4.\n",
            "\n",
            "===============================================\n",
            "\n",
            "\n",
            "\n",
            "[!!]Indexing page: 5\n",
            "\n",
            "[%] Indexed 6 Images on Page 5.\n",
            "\n",
            "===============================================\n",
            "\n",
            "\n",
            "\n",
            "[!!]Indexing page: 6\n",
            "\n",
            "[%] Indexed 5 Images on Page 6.\n",
            "\n",
            "===============================================\n",
            "\n",
            "\n",
            "\n",
            "[!!]Indexing page: 7\n",
            "\n",
            "[%] Indexed 4 Images on Page 7.\n",
            "\n",
            "===============================================\n",
            "\n",
            "\n",
            "\n",
            "[!!]Indexing page: 8\n",
            "\n",
            "[%] Indexed 3 Images on Page 8.\n",
            "\n",
            "===============================================\n",
            "\n",
            "\n",
            "\n",
            "[!!]Indexing page: 9\n",
            "\n",
            "[%] Indexed 2 Images on Page 9.\n",
            "\n",
            "===============================================\n",
            "\n",
            "\n",
            "\n",
            "[!!]Indexing page: 10\n",
            "\n",
            "[%] Indexed 1 Images on Page 10.\n",
            "\n",
            "===============================================\n",
            "\n",
            "\n",
            "\n",
            "[!!]Indexing page: 11\n",
            "\n",
            "[%] Indexed 9 Images on Page 11.\n",
            "\n",
            "===============================================\n",
            "\n",
            "\n",
            "\n",
            "[!!]Indexing page: 12\n",
            "\n",
            "[%] Indexed 9 Images on Page 12.\n",
            "\n",
            "===============================================\n",
            "\n",
            "\n",
            "\n",
            "[!!]Indexing page: 13\n",
            "\n",
            "[%] Indexed 9 Images on Page 13.\n",
            "\n",
            "===============================================\n",
            "\n",
            "\n",
            "\n",
            "[!!]Indexing page: 14\n",
            "\n",
            "[%] Indexed 9 Images on Page 14.\n",
            "\n",
            "===============================================\n",
            "\n",
            "\n",
            "\n",
            "[!!]Indexing page: 15\n",
            "\n",
            "[%] Indexed 9 Images on Page 15.\n",
            "\n",
            "===============================================\n",
            "\n",
            "\n",
            "\n",
            "[!!]Indexing page: 16\n",
            "\n",
            "[%] Indexed 9 Images on Page 16.\n",
            "\n",
            "===============================================\n",
            "\n",
            "\n",
            "\n",
            "[!!]Indexing page: 17\n",
            "\n",
            "[%] Indexed 9 Images on Page 17.\n",
            "\n",
            "===============================================\n",
            "\n",
            "\n",
            "\n",
            "[!!]Indexing page: 18\n",
            "\n",
            "[%] Indexed 9 Images on Page 18.\n",
            "\n",
            "===============================================\n",
            "\n",
            "\n",
            "\n",
            "[!!]Indexing page: 19\n",
            "\n",
            "[%] Indexed 9 Images on Page 19.\n",
            "\n",
            "===============================================\n",
            "\n",
            "\n",
            "\n",
            "[!!]Indexing page: 20\n",
            "\n",
            "[%] Indexed 9 Images on Page 20.\n",
            "\n",
            "===============================================\n",
            "\n",
            "\n",
            "\n",
            "[!!]Indexing page: 21\n",
            "\n",
            "[%] Indexed 9 Images on Page 21.\n",
            "\n",
            "===============================================\n",
            "\n",
            "[%] Downloading Image #18 from https://www.wallpapers13.com/wp-content/uploads/2015/12/Sunflower-bloom-HD-wallpaper-021-1280x1024.jpg\n",
            "[%] File Downloaded !\n",
            "\n",
            "[%] Downloading Image #19 from https://d29jd5m3t61t9.cloudfront.net/flowersforums.com/images/fbfiles/images/828w/IMG_20160601_205711_v_1517464860.jpg\n",
            "[%] File Downloaded !\n",
            "\n",
            "[%] Downloading Image #20 from https://cdn0.hitched.co.uk/articles/images/7/0/0/8/img_68007/hydrangea.jpg\n",
            "[Error]Invalid image, not saving https://cdn0.hitched.co.uk/articles/images/7/0/0/8/img_68007/hydrangea.jpg\n",
            "\n",
            "[!] Issue getting: https://cdn0.hitched.co.uk/articles/images/7/0/0/8/img_68007/hydrangea.jpg\n",
            "[!] Error:: Invalid image, not saving https://cdn0.hitched.co.uk/articles/images/7/0/0/8/img_68007/hydrangea.jpg\n",
            "\n",
            "[%] Downloading Image #20 from http://www.deerpearlflowers.com/wp-content/uploads/2015/05/DIY-Sunflower-in-Mason-Jar-Wedding-Reception-Centerpieces.jpg\n",
            "[%] File Downloaded !\n",
            "\n",
            "[%] Downloading Image #21 from https://www.minnesotawildflowers.info/udata/r9ndp23q/yellow/giant-sunflower-0803_111047.jpg\n",
            "[%] File Downloaded !\n",
            "\n",
            "[%] Downloading Image #22 from http://www.himisspuff.com/wp-content/uploads/2016/07/Rustic-camp-wedding-sign.jpg\n",
            "[%] File Downloaded !\n",
            "\n",
            "[%] Downloading Image #23 from http://www.imagensparawhats.club/wp-content/uploads/2019/08/imagens-de-girassol-8.jpg\n",
            "[%] File Downloaded !\n",
            "\n",
            "[%] Downloading Image #24 from http://www.shakahariblog.com/wp-content/uploads/2014/07/Sunflower1.jpg\n",
            "[%] File Downloaded !\n",
            "\n",
            "[%] Downloading Image #25 from http://blog.shellyrosenberg.com/wp-content/uploads/2019/12/PB279712.jpg\n",
            "[%] File Downloaded !\n",
            "\n",
            "\n",
            "\n",
            "[!!]Indexing page: 22\n",
            "\n",
            "[%] Indexed 9 Images on Page 22.\n",
            "\n",
            "===============================================\n",
            "\n",
            "\n",
            "\n",
            "[!!]Indexing page: 23\n",
            "\n",
            "[%] Indexed 9 Images on Page 23.\n",
            "\n",
            "===============================================\n",
            "\n",
            "\n",
            "\n",
            "[!!]Indexing page: 24\n",
            "\n",
            "[%] Indexed 9 Images on Page 24.\n",
            "\n",
            "===============================================\n",
            "\n",
            "\n",
            "\n",
            "[!!]Indexing page: 25\n",
            "\n",
            "[%] Indexed 9 Images on Page 25.\n",
            "\n",
            "===============================================\n",
            "\n",
            "\n",
            "\n",
            "[!!]Indexing page: 26\n",
            "\n",
            "[%] Indexed 9 Images on Page 26.\n",
            "\n",
            "===============================================\n",
            "\n",
            "[%] Downloading Image #26 from http://www.hdwallpapers.in/download/widescreen_sunflower-1680x1050.jpg\n",
            "[%] File Downloaded !\n",
            "\n",
            "\n",
            "\n",
            "[!!]Indexing page: 27\n",
            "\n",
            "[%] Indexed 9 Images on Page 27.\n",
            "\n",
            "===============================================\n",
            "\n",
            "\n",
            "\n",
            "[!!]Indexing page: 28\n",
            "\n",
            "[%] Indexed 9 Images on Page 28.\n",
            "\n",
            "===============================================\n",
            "\n",
            "\n",
            "\n",
            "[!!]Indexing page: 29\n",
            "\n",
            "[%] Indexed 9 Images on Page 29.\n",
            "\n",
            "===============================================\n",
            "\n",
            "\n",
            "\n",
            "[!!]Indexing page: 30\n",
            "\n",
            "[%] Indexed 9 Images on Page 30.\n",
            "\n",
            "===============================================\n",
            "\n",
            "\n",
            "\n",
            "[!!]Indexing page: 31\n",
            "\n",
            "[%] Indexed 9 Images on Page 31.\n",
            "\n",
            "===============================================\n",
            "\n",
            "\n",
            "\n",
            "[!!]Indexing page: 32\n",
            "\n",
            "[%] Indexed 9 Images on Page 32.\n",
            "\n",
            "===============================================\n",
            "\n",
            "\n",
            "\n",
            "[!!]Indexing page: 33\n",
            "\n",
            "[%] Indexed 9 Images on Page 33.\n",
            "\n",
            "===============================================\n",
            "\n",
            "\n",
            "\n",
            "[!!]Indexing page: 34\n",
            "\n",
            "[%] Indexed 9 Images on Page 34.\n",
            "\n",
            "===============================================\n",
            "\n",
            "\n",
            "\n",
            "[!!]Indexing page: 35\n",
            "\n",
            "[%] Indexed 9 Images on Page 35.\n",
            "\n",
            "===============================================\n",
            "\n",
            "\n",
            "\n",
            "[!!]Indexing page: 36\n",
            "\n",
            "[%] Indexed 9 Images on Page 36.\n",
            "\n",
            "===============================================\n",
            "\n",
            "\n",
            "\n",
            "[!!]Indexing page: 37\n",
            "\n",
            "[%] Indexed 9 Images on Page 37.\n",
            "\n",
            "===============================================\n",
            "\n",
            "\n",
            "\n",
            "[!!]Indexing page: 38\n",
            "\n",
            "[%] Indexed 9 Images on Page 38.\n",
            "\n",
            "===============================================\n",
            "\n",
            "\n",
            "\n",
            "[!!]Indexing page: 39\n",
            "\n",
            "[%] Indexed 30 Images on Page 39.\n",
            "\n",
            "===============================================\n",
            "\n",
            "[%] Downloading Image #27 from https://www.wilko.com/assets/bWFzdGVyfGltYWdlc3wyMDk2NDF8aW1hZ2UvanBlZ3xpbWFnZXMvaGYyL2g2My84ODIzMzgzNjg3MTk4LmpwZ3w1NzU3NzBiNDJhZTFkOWEwZThhNDFjMjBhMGM4YTNkNTE1MWUyNzc0YWI3YTIxMjFkM2RkMzYzNmRmMjVhOGZl/0237665-1.jpg\n",
            "[!] Issue getting: https://www.wilko.com/assets/bWFzdGVyfGltYWdlc3wyMDk2NDF8aW1hZ2UvanBlZ3xpbWFnZXMvaGYyL2g2My84ODIzMzgzNjg3MTk4LmpwZ3w1NzU3NzBiNDJhZTFkOWEwZThhNDFjMjBhMGM4YTNkNTE1MWUyNzc0YWI3YTIxMjFkM2RkMzYzNmRmMjVhOGZl/0237665-1.jpg\n",
            "[!] Error:: HTTP Error 403: Forbidden\n",
            "[%] Downloading Image #27 from https://cdn11.bigcommerce.com/s-608b8/images/stencil/1280x1280/products/1386/1423/Sunflower_Russian_Giant__54689.1364903353.jpg?c=2\n",
            "[%] File Downloaded !\n",
            "\n",
            "[%] Downloading Image #28 from https://4.bp.blogspot.com/-fc_mhd9rQZE/UmkaxFXEScI/AAAAAAAADzU/BqEO1QmCzk4/s1600/IMG_3172.JPG\n",
            "[%] File Downloaded !\n",
            "\n",
            "[%] Downloading Image #29 from https://www.theseedcollection.com.au/assets/full/X-067.jpg?20200707030733\n",
            "[%] File Downloaded !\n",
            "\n",
            "[%] Downloading Image #30 from https://lightorialist.com/wp-content/uploads/userimages/gabi/sunflower-at-sunset/lightorialist-20150719-sunflower-2-1600x1067.jpg\n",
            "[%] File Downloaded !\n",
            "\n",
            "\n",
            "\n",
            "[%] Done. Downloaded 30 images.\n",
            "time: 37.9 s (started: 2022-07-12 04:28:54 +00:00)\n"
          ]
        }
      ],
      "source": [
        "from bing_image_downloader import downloader\n",
        "downloader.download(\"Sunflower\",limit=30,output_dir='IMAGES',adult_filter_off=True)\n"
      ]
    },
    {
      "cell_type": "code",
      "execution_count": null,
      "metadata": {
        "colab": {
          "base_uri": "https://localhost:8080/"
        },
        "id": "yQva7m5xD5Lj",
        "outputId": "25d7dd3d-a728-485a-8569-7ce33538f53d"
      },
      "outputs": [
        {
          "output_type": "stream",
          "name": "stdout",
          "text": [
            "[%] Downloading Images to /content/IMAGES/Rugby ball\n",
            "\n",
            "\n",
            "[!!]Indexing page: 1\n",
            "\n",
            "[%] Indexed 9 Images on Page 1.\n",
            "\n",
            "===============================================\n",
            "\n",
            "[%] Downloading Image #1 from http://www.arc.unsw.edu.au/generated/hero-large/underwater-rugby-2-jpg-1468803234.jpg?1468803682\n",
            "[%] File Downloaded !\n",
            "\n",
            "[%] Downloading Image #2 from https://ingilizcebankasi.com/wp-content/uploads/soccer.jpg\n",
            "[%] File Downloaded !\n",
            "\n",
            "[%] Downloading Image #3 from http://cdn.shopify.com/s/files/1/0284/1529/5533/products/Promotional-Giant-wooden-dice_1200x1200.jpg?v=1577933275\n",
            "[%] File Downloaded !\n",
            "\n",
            "[%] Downloading Image #4 from https://www.educol.net/coloriage-rugby-dl12032.jpg\n",
            "[%] File Downloaded !\n",
            "\n",
            "[%] Downloading Image #5 from http://www.bigdonsboys.com/other_sports/lawrence_dallaglio/images/06_04_lawrence_dallaglio_rugby_021.jpg\n",
            "[%] File Downloaded !\n",
            "\n",
            "[%] Downloading Image #6 from https://cdn.images.dailystar.co.uk/dynamic/1/photos/185000/936x622/124185.jpg\n",
            "[%] File Downloaded !\n",
            "\n",
            "[%] Downloading Image #7 from http://1.bp.blogspot.com/-XU49Dwxe6fs/USadOSpd9gI/AAAAAAAAA80/gmED-2IoltQ/s1600/baseballyum.jpg\n",
            "[%] File Downloaded !\n",
            "\n",
            "[%] Downloading Image #8 from https://static2.stuff.co.nz/1256866001/213/3016213.jpg\n",
            "[%] File Downloaded !\n",
            "\n",
            "[%] Downloading Image #9 from https://colorearimagenes.net/wp-content/uploads/2015/10/rugby.gif\n",
            "[%] File Downloaded !\n",
            "\n",
            "\n",
            "\n",
            "[!!]Indexing page: 2\n",
            "\n",
            "[%] Indexed 9 Images on Page 2.\n",
            "\n",
            "===============================================\n",
            "\n",
            "\n",
            "\n",
            "[!!]Indexing page: 3\n",
            "\n",
            "[%] Indexed 8 Images on Page 3.\n",
            "\n",
            "===============================================\n",
            "\n",
            "\n",
            "\n",
            "[!!]Indexing page: 4\n",
            "\n",
            "[%] Indexed 7 Images on Page 4.\n",
            "\n",
            "===============================================\n",
            "\n",
            "[%] Downloading Image #10 from http://cdn.shopify.com/s/files/1/2472/7134/collections/IMG_8914_1200x1200.JPG?v=1508590573\n",
            "[%] File Downloaded !\n",
            "\n",
            "[%] Downloading Image #11 from https://i.ytimg.com/vi/aJjv8tWbj4c/maxresdefault.jpg\n",
            "[%] File Downloaded !\n",
            "\n",
            "[%] Downloading Image #12 from https://images.alphacoders.com/510/thumb-1920-510026.jpg\n",
            "[%] File Downloaded !\n",
            "\n",
            "[%] Downloading Image #13 from https://resources.stuff.co.nz/content/dam/images/1/6/i/9/h/d/image.related.StuffLandscapeSixteenByNine.1420x800.16i915.png/1440380845466.jpg\n",
            "[%] File Downloaded !\n",
            "\n",
            "[%] Downloading Image #14 from https://mhgoals.com/wp-content/uploads/2015/04/FT-701-76mm-Ball-stop-posts.jpg\n",
            "[%] File Downloaded !\n",
            "\n",
            "[%] Downloading Image #15 from https://www.mhgoals.com/wp-content/uploads/2015/04/FT-640-Metal-Corner-Base-Set.jpg\n",
            "[%] File Downloaded !\n",
            "\n",
            "[%] Downloading Image #16 from https://www.indezine.com/powerpoint/freetemplates/templates/t_ind_1880a.jpg\n",
            "[%] File Downloaded !\n",
            "\n",
            "\n",
            "\n",
            "[!!]Indexing page: 5\n",
            "\n",
            "[%] Indexed 6 Images on Page 5.\n",
            "\n",
            "===============================================\n",
            "\n",
            "[%] Downloading Image #17 from https://wallpapershome.com/images/wallpapers/2018-fifa-world-cup-russia-1920x1080-ball-soccer-5k-19791.jpg\n",
            "[%] File Downloaded !\n",
            "\n",
            "[%] Downloading Image #18 from https://www.francetvinfo.fr/image/75eckg1ep-9a8c/908/510/13159349.jpg\n",
            "[%] File Downloaded !\n",
            "\n",
            "[%] Downloading Image #19 from https://www.educol.net/coloriage-le-rugby-dl12041.jpg\n",
            "[%] File Downloaded !\n",
            "\n",
            "[%] Downloading Image #20 from https://www.inverness-courier.co.uk/_media/img/NBV0PWJN7IGFCPWBSCIP.jpg\n",
            "[%] File Downloaded !\n",
            "\n",
            "[%] Downloading Image #21 from https://a4.espncdn.com/combiner/i?img=%2Fmedia%2Fmotion%2F2015%2F0710%2Fdm_150710_mlb_reds_greatamericanballpark_tour%2Fdm_150710_mlb_reds_greatamericanballpark_tour.jpg\n",
            "[%] File Downloaded !\n",
            "\n",
            "[%] Downloading Image #22 from https://hative.com/wp-content/uploads/2014/10/face-painting-ideas-for-kids/26-football-face-paint.jpg\n",
            "[%] File Downloaded !\n",
            "\n",
            "\n",
            "\n",
            "[!!]Indexing page: 6\n",
            "\n",
            "[%] Indexed 30 Images on Page 6.\n",
            "\n",
            "===============================================\n",
            "\n",
            "[%] Downloading Image #23 from https://thebrandingstudio.com.au/wp-content/uploads/2020/09/117254-2.jpg\n",
            "[%] File Downloaded !\n",
            "\n",
            "[%] Downloading Image #24 from https://www.primopromo.com.au/assets/Uploads/3b30cef80a/Rugby-Ball-Pro+in-use-v3.jpg\n",
            "[%] File Downloaded !\n",
            "\n",
            "[%] Downloading Image #25 from https://res.cloudinary.com/moresport/image/upload/c_fill,q_auto:good/v1575961299/uploads/assets/1142206-0-ENi.jpg\n",
            "[%] File Downloaded !\n",
            "\n",
            "[%] Downloading Image #26 from https://www.gophersport.com/cmsstatic/g-71439-official-rugby-ball.jpg\n",
            "[%] File Downloaded !\n",
            "\n",
            "[%] Downloading Image #27 from https://johnlewis.scene7.com/is/image/JohnLewis/233703496?$rsp-pdp-port-1440$\n",
            "[%] File Downloaded !\n",
            "\n",
            "[%] Downloading Image #28 from https://nwscdn.com/media/catalog/product/d/o/dominate-rugby-ball_7.jpg\n",
            "[Error]Invalid image, not saving https://nwscdn.com/media/catalog/product/d/o/dominate-rugby-ball_7.jpg\n",
            "\n",
            "[!] Issue getting: https://nwscdn.com/media/catalog/product/d/o/dominate-rugby-ball_7.jpg\n",
            "[!] Error:: Invalid image, not saving https://nwscdn.com/media/catalog/product/d/o/dominate-rugby-ball_7.jpg\n",
            "\n",
            "[%] Downloading Image #28 from https://cdn.shopify.com/s/files/1/0269/2284/4257/products/unnamed_3a0f9c22-1690-4da6-ac87-e1bd59115090_1200x.png?v=1601120913\n",
            "[%] File Downloaded !\n",
            "\n",
            "[%] Downloading Image #29 from https://usa.rhinorugby.com/media/catalog/product/cache/1/image/1800x/040ec09b1e35df139433887a97daa66f/v/o/vortex_elite.jpg\n",
            "[!] Issue getting: https://usa.rhinorugby.com/media/catalog/product/cache/1/image/1800x/040ec09b1e35df139433887a97daa66f/v/o/vortex_elite.jpg\n",
            "[!] Error:: HTTP Error 404: Not Found\n",
            "[%] Downloading Image #29 from https://i1.wp.com/www.sportsballshop.co.uk/sportsballblog/wp-content/uploadsortsballshop.co.uk/user/2019/03/Sirius-Generic-Match-Ball-.jpg?fit=1350%2C1318&amp;ssl=1\n",
            "[%] File Downloaded !\n",
            "\n",
            "[%] Downloading Image #30 from https://rhinorugby.co.za/wp-content/uploads/2020/04/Cyclone-Ball-Orange-scaled.jpg\n",
            "[%] File Downloaded !\n",
            "\n",
            "\n",
            "\n",
            "[%] Done. Downloaded 30 images.\n",
            "time: 35.1 s (started: 2022-07-12 04:29:32 +00:00)\n"
          ]
        }
      ],
      "source": [
        "downloader.download(\"Rugby ball\",limit=30,output_dir='IMAGES',adult_filter_off=True)"
      ]
    },
    {
      "cell_type": "code",
      "execution_count": null,
      "metadata": {
        "colab": {
          "base_uri": "https://localhost:8080/"
        },
        "id": "_zz_6SV10tAQ",
        "outputId": "7622cfe8-7ba3-4d63-d131-066b98de738e"
      },
      "outputs": [
        {
          "output_type": "stream",
          "name": "stdout",
          "text": [
            "time: 1.19 ms (started: 2022-07-12 04:30:07 +00:00)\n"
          ]
        }
      ],
      "source": [
        "#downloader.download(\"Shoes\",limit=30,output_dir='IMAGES',adult_filter_off=True)"
      ]
    },
    {
      "cell_type": "code",
      "execution_count": null,
      "metadata": {
        "colab": {
          "base_uri": "https://localhost:8080/"
        },
        "id": "L0aQWgiN2Jqq",
        "outputId": "88a9c8ca-3e5d-4cab-81d6-e2822738934d"
      },
      "outputs": [
        {
          "output_type": "stream",
          "name": "stdout",
          "text": [
            "[%] Downloading Images to /content/IMAGES/ice cream cone\n",
            "\n",
            "\n",
            "[!!]Indexing page: 1\n",
            "\n",
            "[%] Indexed 9 Images on Page 1.\n",
            "\n",
            "===============================================\n",
            "\n",
            "[%] Downloading Image #1 from https://c1.staticflickr.com/5/4030/5076899310_67b9566ac8_b.jpg\n",
            "[%] File Downloaded !\n",
            "\n",
            "[%] Downloading Image #2 from https://melaniemakes.com/images/2017/03/chocolate-covered-strawberry-ice-cream-tart-mm.jpg\n",
            "[%] File Downloaded !\n",
            "\n",
            "[%] Downloading Image #3 from https://www.obnoxiousantiques.com/wp-content/uploads/2016/09/ice-cream-cone-grease-4.jpg\n",
            "[%] File Downloaded !\n",
            "\n",
            "[%] Downloading Image #4 from http://www.roadsideamerica.com/attract/images/mo/MOAFFicecream_laura.jpg\n",
            "[%] File Downloaded !\n",
            "\n",
            "[%] Downloading Image #5 from https://cdn001.cakecentral.com/gallery/2016/08/900_ice-cream-cone-birthday-cake-798496ZqE8j.jpg\n",
            "[%] File Downloaded !\n",
            "\n",
            "[%] Downloading Image #6 from https://c2.staticflickr.com/6/5445/7227446516_2bfabf111c_b.jpg\n",
            "[%] File Downloaded !\n",
            "\n",
            "[%] Downloading Image #7 from http://media.npr.org/assets/img/2013/04/17/swittericecream003cc_vert-74d296f0f7ac902e46476f2a78f76af70a4030b5.jpg?s=6\n",
            "[%] File Downloaded !\n",
            "\n",
            "[%] Downloading Image #8 from https://assets3.thrillist.com/v1/image/1461402/size/tmg-article_tall;jpeg_quality=20.jpg\n",
            "[%] File Downloaded !\n",
            "\n",
            "[%] Downloading Image #9 from http://images.hellogiggles.com/uploads/2016/12/01032110/cosmo-glitter-ice-cream-cone-cake.jpg\n",
            "[%] File Downloaded !\n",
            "\n",
            "\n",
            "\n",
            "[!!]Indexing page: 2\n",
            "\n",
            "[%] Indexed 9 Images on Page 2.\n",
            "\n",
            "===============================================\n",
            "\n",
            "[%] Downloading Image #10 from https://i.pinimg.com/736x/a5/b9/d0/a5b9d048dba3bacb00a10c469df8c6e0--ice-cream-cones-sprinkles.jpg\n",
            "[%] File Downloaded !\n",
            "\n",
            "[%] Downloading Image #11 from https://cdn.wonderfuldiy.com/wp-content/uploads/2016/06/Oreo-Ice-Cream-Cake.jpg\n",
            "[%] File Downloaded !\n",
            "\n",
            "[%] Downloading Image #12 from http://www.megacone.ca/wp-content/plugins/widgetkit/cache/mega-cone-menu-dipped-cones-7b7e7f8a8f6ab215248af317716b35cb.jpg\n",
            "[%] File Downloaded !\n",
            "\n",
            "[%] Downloading Image #13 from https://assets3.thrillist.com/v1/image/1798881/1200x600/scale;\n",
            "[%] File Downloaded !\n",
            "\n",
            "[%] Downloading Image #14 from https://i.pinimg.com/736x/b0/ab/19/b0ab192e62d1a3b660a6d45d4021c1da.jpg\n",
            "[%] File Downloaded !\n",
            "\n",
            "[%] Downloading Image #15 from https://www.coldstonecreamery.com/assets/img/products/signaturecreations/birthdaycakeremix.jpg\n",
            "[%] File Downloaded !\n",
            "\n",
            "[%] Downloading Image #16 from https://www.icecreamandicecream.com/wp-content/uploads/2020/03/Cornetto-Classic-Chocolate-499x999.jpeg\n",
            "[%] File Downloaded !\n",
            "\n",
            "[%] Downloading Image #17 from https://hips.hearstapps.com/cos.h-cdn.co/assets/15/20/980x531/gallery-1431555287-2.jpg?resize=480:*\n",
            "[%] File Downloaded !\n",
            "\n",
            "[%] Downloading Image #18 from https://img.xcitefun.net/users/2015/01/375419,xcitefun-oreo-ice-cream-3.jpg\n",
            "[%] File Downloaded !\n",
            "\n",
            "\n",
            "\n",
            "[!!]Indexing page: 3\n",
            "\n",
            "[%] Indexed 8 Images on Page 3.\n",
            "\n",
            "===============================================\n",
            "\n",
            "\n",
            "\n",
            "[!!]Indexing page: 4\n",
            "\n",
            "[%] Indexed 7 Images on Page 4.\n",
            "\n",
            "===============================================\n",
            "\n",
            "\n",
            "\n",
            "[!!]Indexing page: 5\n",
            "\n",
            "[%] Indexed 6 Images on Page 5.\n",
            "\n",
            "===============================================\n",
            "\n",
            "\n",
            "\n",
            "[!!]Indexing page: 6\n",
            "\n",
            "[%] Indexed 5 Images on Page 6.\n",
            "\n",
            "===============================================\n",
            "\n",
            "\n",
            "\n",
            "[!!]Indexing page: 7\n",
            "\n",
            "[%] Indexed 4 Images on Page 7.\n",
            "\n",
            "===============================================\n",
            "\n",
            "\n",
            "\n",
            "[!!]Indexing page: 8\n",
            "\n",
            "[%] Indexed 3 Images on Page 8.\n",
            "\n",
            "===============================================\n",
            "\n",
            "\n",
            "\n",
            "[!!]Indexing page: 9\n",
            "\n",
            "[%] Indexed 2 Images on Page 9.\n",
            "\n",
            "===============================================\n",
            "\n",
            "\n",
            "\n",
            "[!!]Indexing page: 10\n",
            "\n",
            "[%] Indexed 1 Images on Page 10.\n",
            "\n",
            "===============================================\n",
            "\n",
            "\n",
            "\n",
            "[!!]Indexing page: 11\n",
            "\n",
            "[%] Indexed 9 Images on Page 11.\n",
            "\n",
            "===============================================\n",
            "\n",
            "\n",
            "\n",
            "[!!]Indexing page: 12\n",
            "\n",
            "[%] Indexed 9 Images on Page 12.\n",
            "\n",
            "===============================================\n",
            "\n",
            "\n",
            "\n",
            "[!!]Indexing page: 13\n",
            "\n",
            "[%] Indexed 9 Images on Page 13.\n",
            "\n",
            "===============================================\n",
            "\n",
            "[%] Downloading Image #19 from http://phandroid.s3.amazonaws.com/wp-content/uploads/2010/10/ice-cream1.jpg\n",
            "[%] File Downloaded !\n",
            "\n",
            "[%] Downloading Image #20 from https://img0.etsystatic.com/015/0/5205551/il_570xN.427294972_4pjm.jpg\n",
            "[%] File Downloaded !\n",
            "\n",
            "[%] Downloading Image #21 from https://www.peters.com.au/wp-content/uploads/2020/05/Drumstick_ClassicVanilla_HW.png\n",
            "[%] File Downloaded !\n",
            "\n",
            "[%] Downloading Image #22 from https://i.pinimg.com/736x/ff/da/af/ffdaafdc275239368cc8492997d373c8--the-color-purple-purple-lilac.jpg\n",
            "[%] File Downloaded !\n",
            "\n",
            "[%] Downloading Image #23 from https://c1.staticflickr.com/3/2080/2471124704_b52b8c8cbd_z.jpg%3fzz%3d1\n",
            "[%] File Downloaded !\n",
            "\n",
            "[%] Downloading Image #24 from https://img1.mashed.com/img/gallery/fast-food-ice-cream-cones-ranked-worst-to-best/11-mcdonalds-vanilla-cone-1619103289.jpg\n",
            "[%] File Downloaded !\n",
            "\n",
            "[%] Downloading Image #25 from https://www.doyouremember.co.uk/uploads/W2YrgIV811138666_467075566790990_8064308684721678494_n.jpg\n",
            "[Error]Invalid image, not saving https://www.doyouremember.co.uk/uploads/W2YrgIV811138666_467075566790990_8064308684721678494_n.jpg\n",
            "\n",
            "[!] Issue getting: https://www.doyouremember.co.uk/uploads/W2YrgIV811138666_467075566790990_8064308684721678494_n.jpg\n",
            "[!] Error:: Invalid image, not saving https://www.doyouremember.co.uk/uploads/W2YrgIV811138666_467075566790990_8064308684721678494_n.jpg\n",
            "\n",
            "[%] Downloading Image #25 from http://www.nydailynews.com/resizer/VSQXQtNr9T4gGX4s6IcR6V83KTE=/1200x0/arc-anglerfish-arc2-prod-tronc.s3.amazonaws.com/public/54PAD4WSVSWY7GZTOYGMOBWESQ.jpg\n",
            "[%] File Downloaded !\n",
            "\n",
            "[%] Downloading Image #26 from http://i.ytimg.com/vi/jRXOTGsSSLw/maxresdefault.jpg\n",
            "[%] File Downloaded !\n",
            "\n",
            "\n",
            "\n",
            "[!!]Indexing page: 14\n",
            "\n",
            "[%] Indexed 9 Images on Page 14.\n",
            "\n",
            "===============================================\n",
            "\n",
            "\n",
            "\n",
            "[!!]Indexing page: 15\n",
            "\n",
            "[%] Indexed 9 Images on Page 15.\n",
            "\n",
            "===============================================\n",
            "\n",
            "\n",
            "\n",
            "[!!]Indexing page: 16\n",
            "\n",
            "[%] Indexed 9 Images on Page 16.\n",
            "\n",
            "===============================================\n",
            "\n",
            "\n",
            "\n",
            "[!!]Indexing page: 17\n",
            "\n",
            "[%] Indexed 9 Images on Page 17.\n",
            "\n",
            "===============================================\n",
            "\n",
            "\n",
            "\n",
            "[!!]Indexing page: 18\n",
            "\n",
            "[%] Indexed 9 Images on Page 18.\n",
            "\n",
            "===============================================\n",
            "\n",
            "\n",
            "\n",
            "[!!]Indexing page: 19\n",
            "\n",
            "[%] Indexed 9 Images on Page 19.\n",
            "\n",
            "===============================================\n",
            "\n",
            "\n",
            "\n",
            "[!!]Indexing page: 20\n",
            "\n",
            "[%] Indexed 9 Images on Page 20.\n",
            "\n",
            "===============================================\n",
            "\n",
            "\n",
            "\n",
            "[!!]Indexing page: 21\n",
            "\n",
            "[%] Indexed 30 Images on Page 21.\n",
            "\n",
            "===============================================\n",
            "\n",
            "[%] Downloading Image #27 from https://helloyummy.co/wp-content/uploads/2020/10/Rice-Krispie-Sprinkle-Ice-Cream-Cones10.jpg\n",
            "[%] File Downloaded !\n",
            "\n",
            "[%] Downloading Image #28 from https://www.joshuakennon.com/wp-content/uploads/2011/07/flavor-burst-ice-cream-cone.jpg\n",
            "[%] File Downloaded !\n",
            "\n",
            "[%] Downloading Image #29 from https://cmkt-image-prd.freetls.fastly.net/0.1.0/ps/7468873/1820/2862/m1/fpnw/wm1/en4hrj6n9vxfmcipirsxu0rgujs058nqxn3cteatfuq0lbgrwwequzjiisbj3ymi-.jpg?1576506367&amp;s=19603b99a32c1de5c0fd1e690ba16b1f\n",
            "[!] Issue getting: https://cmkt-image-prd.freetls.fastly.net/0.1.0/ps/7468873/1820/2862/m1/fpnw/wm1/en4hrj6n9vxfmcipirsxu0rgujs058nqxn3cteatfuq0lbgrwwequzjiisbj3ymi-.jpg?1576506367&amp;s=19603b99a32c1de5c0fd1e690ba16b1f\n",
            "[!] Error:: HTTP Error 404: Not Found\n",
            "[%] Downloading Image #29 from https://thekingsbay.com/wp-content/uploads/2020/06/21ccbe66-ac17-5daa-a323-6cc508c0b5e7-2048x2048.jpg\n",
            "[%] File Downloaded !\n",
            "\n",
            "[%] Downloading Image #30 from https://mir-s3-cdn-cf.behance.net/project_modules/1400/619b4626460315.5635582e7e0a4.jpg\n",
            "[Error]Invalid image, not saving https://mir-s3-cdn-cf.behance.net/project_modules/1400/619b4626460315.5635582e7e0a4.jpg\n",
            "\n",
            "[!] Issue getting: https://mir-s3-cdn-cf.behance.net/project_modules/1400/619b4626460315.5635582e7e0a4.jpg\n",
            "[!] Error:: Invalid image, not saving https://mir-s3-cdn-cf.behance.net/project_modules/1400/619b4626460315.5635582e7e0a4.jpg\n",
            "\n",
            "[%] Downloading Image #30 from https://www.victoriabuzz.com/wp-content/uploads/2019/06/McDonalds-e1559604257708-1068x921.jpg\n",
            "[%] File Downloaded !\n",
            "\n",
            "\n",
            "\n",
            "[%] Done. Downloaded 30 images.\n",
            "time: 29.4 s (started: 2022-07-12 04:30:07 +00:00)\n"
          ]
        }
      ],
      "source": [
        "downloader.download(\"ice cream cone\",limit=30,output_dir='IMAGES',adult_filter_off=True)"
      ]
    },
    {
      "cell_type": "code",
      "execution_count": null,
      "metadata": {
        "colab": {
          "base_uri": "https://localhost:8080/"
        },
        "id": "IJ-OjLJH5SW7",
        "outputId": "34b8c01f-3b5f-43d3-b267-d075b393ac1f"
      },
      "outputs": [
        {
          "output_type": "stream",
          "name": "stdout",
          "text": [
            "time: 955 µs (started: 2022-07-12 04:30:36 +00:00)\n"
          ]
        }
      ],
      "source": [
        "# how do i convert matrix to vector (flatten the data()) .\n",
        "#images always be represented in matrix"
      ]
    },
    {
      "cell_type": "code",
      "execution_count": null,
      "metadata": {
        "colab": {
          "base_uri": "https://localhost:8080/"
        },
        "id": "cx4BwooO2pA3",
        "outputId": "086fba9e-1ca5-496d-a82c-eeb277dc0777"
      },
      "outputs": [
        {
          "output_type": "stream",
          "name": "stdout",
          "text": [
            "time: 30.1 s (started: 2022-07-12 04:30:36 +00:00)\n"
          ]
        }
      ],
      "source": [
        "# Preprocessing\n",
        "# 1. Resize\n",
        "# 2. Flatten\n",
        "\n",
        "import os\n",
        "import matplotlib.pyplot as plt\n",
        "import numpy as np\n",
        "from skimage.io import imread\n",
        "from skimage.transform import resize\n",
        "\n",
        "target =[]\n",
        "images =[]\n",
        "flat_data =[]\n",
        "\n",
        "DATADIR ='/content/IMAGES'\n",
        "CATEGORIES = ['Sunflower','Rugby ball','ice cream cone']\n",
        "\n",
        "for category in CATEGORIES:\n",
        "  class_num =CATEGORIES.index(category) # Label encoding the values inside this loop\n",
        "  path = os.path.join(DATADIR,category) # Create path to use all the images\n",
        "  for img in os.listdir(path):\n",
        "    img_array = imread(os.path.join(path,img))\n",
        "    img_resized =resize(img_array,(150,150,3))# Normalizes the value from o to 1\n",
        "    flat_data.append(img_resized.flatten())\n",
        "    images.append(img_resized)\n",
        "    target.append(class_num)\n",
        "\n",
        "flat_data = np.array(flat_data)\n",
        "target = np.array(target)\n",
        "images = np.array(images)\n"
      ]
    },
    {
      "cell_type": "code",
      "execution_count": null,
      "metadata": {
        "colab": {
          "base_uri": "https://localhost:8080/"
        },
        "id": "wO1ml7WL3DiD",
        "outputId": "f36deda6-e1f1-4627-8dad-00217df22e2f"
      },
      "outputs": [
        {
          "output_type": "execute_result",
          "data": {
            "text/plain": [
              "67500"
            ]
          },
          "metadata": {},
          "execution_count": 45
        },
        {
          "output_type": "stream",
          "name": "stdout",
          "text": [
            "time: 13.3 ms (started: 2022-07-12 04:31:06 +00:00)\n"
          ]
        }
      ],
      "source": [
        "len(flat_data[0])"
      ]
    },
    {
      "cell_type": "code",
      "execution_count": null,
      "metadata": {
        "colab": {
          "base_uri": "https://localhost:8080/"
        },
        "id": "OMPAaTad3D-d",
        "outputId": "6febec92-63df-4754-b23d-ba95c64ec10b"
      },
      "outputs": [
        {
          "output_type": "execute_result",
          "data": {
            "text/plain": [
              "67500"
            ]
          },
          "metadata": {},
          "execution_count": 46
        },
        {
          "output_type": "stream",
          "name": "stdout",
          "text": [
            "time: 10.2 ms (started: 2022-07-12 04:31:06 +00:00)\n"
          ]
        }
      ],
      "source": [
        "150*150*3"
      ]
    },
    {
      "cell_type": "code",
      "execution_count": null,
      "metadata": {
        "colab": {
          "base_uri": "https://localhost:8080/"
        },
        "id": "Qwn-sJy9J8Aw",
        "outputId": "f13c65af-768a-4819-f99e-ad29a100edd7"
      },
      "outputs": [
        {
          "output_type": "execute_result",
          "data": {
            "text/plain": [
              "array([0, 0, 0, 0, 0, 0, 0, 0, 0, 0, 0, 0, 0, 0, 0, 0, 0, 0, 0, 0, 0, 0,\n",
              "       0, 0, 0, 0, 0, 0, 0, 0, 0, 1, 1, 1, 1, 1, 1, 1, 1, 1, 1, 1, 1, 1,\n",
              "       1, 1, 1, 1, 1, 1, 1, 1, 1, 1, 1, 1, 1, 1, 1, 1, 1, 1, 1, 1, 1, 1,\n",
              "       2, 2, 2, 2, 2, 2, 2, 2, 2, 2, 2, 2, 2, 2, 2, 2, 2, 2, 2, 2, 2, 2,\n",
              "       2, 2, 2, 2, 2, 2, 2, 2, 2, 2, 2, 2])"
            ]
          },
          "metadata": {},
          "execution_count": 47
        },
        {
          "output_type": "stream",
          "name": "stdout",
          "text": [
            "time: 11.4 ms (started: 2022-07-12 04:31:06 +00:00)\n"
          ]
        }
      ],
      "source": [
        "target"
      ]
    },
    {
      "cell_type": "code",
      "execution_count": null,
      "metadata": {
        "colab": {
          "base_uri": "https://localhost:8080/",
          "height": 300
        },
        "id": "BG7dnFyZKC7F",
        "outputId": "03f53595-16e2-4514-eb69-9ca93796219c"
      },
      "outputs": [
        {
          "output_type": "execute_result",
          "data": {
            "text/plain": [
              "<BarContainer object of 3 artists>"
            ]
          },
          "metadata": {},
          "execution_count": 48
        },
        {
          "output_type": "display_data",
          "data": {
            "text/plain": [
              "<Figure size 432x288 with 1 Axes>"
            ],
            "image/png": "[encoded data removed]"
          },
          "metadata": {
            "needs_background": "light"
          }
        },
        {
          "output_type": "stream",
          "name": "stdout",
          "text": [
            "time: 171 ms (started: 2022-07-12 04:31:06 +00:00)\n"
          ]
        }
      ],
      "source": [
        "unique,count = np.unique(target,return_counts=True)\n",
        "plt.bar(CATEGORIES,count)\n",
        "\n"
      ]
    },
    {
      "cell_type": "code",
      "execution_count": null,
      "metadata": {
        "colab": {
          "base_uri": "https://localhost:8080/"
        },
        "id": "hB66wSzIKMWu",
        "outputId": "948d3f48-6874-4848-ceec-4a64a9f7b53f"
      },
      "outputs": [
        {
          "output_type": "stream",
          "name": "stdout",
          "text": [
            "time: 17.9 ms (started: 2022-07-12 04:31:07 +00:00)\n"
          ]
        }
      ],
      "source": [
        "#split data into training and testing \n",
        "from sklearn.model_selection import train_test_split\n",
        "x_train,x_test,y_train,y_test = train_test_split(flat_data,target,\n",
        "                                                 test_size=0.3,random_state=109)"
      ]
    },
    {
      "cell_type": "code",
      "execution_count": null,
      "metadata": {
        "colab": {
          "base_uri": "https://localhost:8080/"
        },
        "id": "blMkDL9fLwuZ",
        "outputId": "89fc191b-0832-473b-930e-55b1ca2cb03f"
      },
      "outputs": [
        {
          "output_type": "execute_result",
          "data": {
            "text/plain": [
              "GridSearchCV(estimator=SVC(probability=True),\n",
              "             param_grid=[{'C': [1, 10, 100, 1000], 'kernel': ['linear']},\n",
              "                         {'C': [1, 10, 100, 1000], 'gamma': [0.001, 0.0001],\n",
              "                          'kernel': ['rbf']}])"
            ]
          },
          "metadata": {},
          "execution_count": 16
        },
        {
          "output_type": "stream",
          "name": "stdout",
          "text": [
            "time: 1min 1s (started: 2022-07-12 04:08:11 +00:00)\n"
          ]
        }
      ],
      "source": [
        "from sklearn.model_selection import GridSearchCV\n",
        "from sklearn import svm\n",
        "param_grid = [{'C':[1,10,100,1000],'kernel':['linear']},\n",
        "              {'C':[1,10,100,1000],'gamma':[0.001,0.0001],'kernel':['rbf']},\n",
        "              ]\n",
        "\n",
        "svc = svm.SVC(probability=True)\n",
        "clf = GridSearchCV(svc,param_grid)\n",
        "clf.fit(x_train,y_train)\n",
        " \n"
      ]
    },
    {
      "cell_type": "code",
      "source": [
        "y_pred = clf.predict(x_test)\n",
        "y_pred"
      ],
      "metadata": {
        "colab": {
          "base_uri": "https://localhost:8080/"
        },
        "id": "B097LfCpFFqS",
        "outputId": "c3621618-b356-48b7-edaf-6d5b7653d27b"
      },
      "execution_count": null,
      "outputs": [
        {
          "output_type": "execute_result",
          "data": {
            "text/plain": [
              "array([2, 0, 2, 2, 2, 1, 1, 1, 2, 0, 0, 2, 2, 2, 2, 0, 2, 0, 1, 0, 2, 1,\n",
              "       1, 1, 2, 0, 1])"
            ]
          },
          "metadata": {},
          "execution_count": 17
        },
        {
          "output_type": "stream",
          "name": "stdout",
          "text": [
            "time: 103 ms (started: 2022-07-12 04:09:13 +00:00)\n"
          ]
        }
      ]
    },
    {
      "cell_type": "code",
      "source": [
        "y_test"
      ],
      "metadata": {
        "id": "fI4ufKMmYOU-",
        "colab": {
          "base_uri": "https://localhost:8080/"
        },
        "outputId": "86b78f5d-bc13-4193-d52b-4a451c6d2e37"
      },
      "execution_count": null,
      "outputs": [
        {
          "output_type": "execute_result",
          "data": {
            "text/plain": [
              "array([1, 0, 1, 2, 2, 1, 0, 1, 1, 0, 1, 0, 1, 2, 2, 1, 2, 1, 0, 1, 2, 2,\n",
              "       2, 0, 0, 0, 1])"
            ]
          },
          "metadata": {},
          "execution_count": 18
        },
        {
          "output_type": "stream",
          "name": "stdout",
          "text": [
            "time: 5.24 ms (started: 2022-07-12 04:09:13 +00:00)\n"
          ]
        }
      ]
    },
    {
      "cell_type": "code",
      "execution_count": null,
      "metadata": {
        "id": "VNMM16gxb4y4",
        "colab": {
          "base_uri": "https://localhost:8080/"
        },
        "outputId": "51481211-06bd-45b2-9b20-b7db41ef9b0f"
      },
      "outputs": [
        {
          "output_type": "stream",
          "name": "stdout",
          "text": [
            "time: 1.2 ms (started: 2022-07-12 04:09:13 +00:00)\n"
          ]
        }
      ],
      "source": [
        "from sklearn.metrics import accuracy_score,confusion_matrix"
      ]
    },
    {
      "cell_type": "code",
      "source": [
        "accuracy_score(y_pred,y_test)"
      ],
      "metadata": {
        "colab": {
          "base_uri": "https://localhost:8080/"
        },
        "id": "e8GftF5yD6OR",
        "outputId": "96849d12-0a97-4260-fe70-70a57f95f807"
      },
      "execution_count": null,
      "outputs": [
        {
          "output_type": "execute_result",
          "data": {
            "text/plain": [
              "0.4444444444444444"
            ]
          },
          "metadata": {},
          "execution_count": 20
        },
        {
          "output_type": "stream",
          "name": "stdout",
          "text": [
            "time: 7.37 ms (started: 2022-07-12 04:09:13 +00:00)\n"
          ]
        }
      ]
    },
    {
      "cell_type": "code",
      "source": [
        "confusion_matrix(y_pred,y_test)"
      ],
      "metadata": {
        "colab": {
          "base_uri": "https://localhost:8080/"
        },
        "id": "Q56WxMHgEBMc",
        "outputId": "df74e7b4-b92d-4a1c-be90-6c7c87532c29"
      },
      "execution_count": null,
      "outputs": [
        {
          "output_type": "execute_result",
          "data": {
            "text/plain": [
              "array([[3, 4, 0],\n",
              "       [3, 3, 2],\n",
              "       [2, 4, 6]])"
            ]
          },
          "metadata": {},
          "execution_count": 21
        },
        {
          "output_type": "stream",
          "name": "stdout",
          "text": [
            "time: 7.13 ms (started: 2022-07-12 04:09:13 +00:00)\n"
          ]
        }
      ]
    },
    {
      "cell_type": "code",
      "source": [
        "#save the model using pickle library\n",
        "import pickle \n",
        "pickle.dump(clf,open('img_model.p','wb'))"
      ],
      "metadata": {
        "colab": {
          "base_uri": "https://localhost:8080/"
        },
        "id": "4bIDuv6fFkCM",
        "outputId": "69a0d423-a459-413c-ca2a-ef4a62a2c573"
      },
      "execution_count": null,
      "outputs": [
        {
          "output_type": "stream",
          "name": "stdout",
          "text": [
            "time: 64.1 ms (started: 2022-07-12 04:09:13 +00:00)\n"
          ]
        }
      ]
    },
    {
      "cell_type": "code",
      "source": [
        "model = pickle.load(open('img_model.p','rb'))"
      ],
      "metadata": {
        "colab": {
          "base_uri": "https://localhost:8080/"
        },
        "id": "VbT_kN0cG77r",
        "outputId": "1763ea8e-1232-4884-dda9-eadb3a49f7ec"
      },
      "execution_count": null,
      "outputs": [
        {
          "output_type": "stream",
          "name": "stdout",
          "text": [
            "time: 27 ms (started: 2022-07-12 04:09:13 +00:00)\n"
          ]
        }
      ]
    },
    {
      "cell_type": "code",
      "source": [
        "# Testing a brand new Image\n",
        "flat_data = []\n",
        "url = input('Enter your URL')\n",
        "img = imread(url)\n",
        "img_resized = resize(img,(150,150,3))\n",
        "flat_data.append(img_resized.flatten())\n",
        "flat_data = np.array(flat_data)\n",
        "print(img.shape)\n",
        "plt.imshow(img_resized)\n",
        "y_out = model.predict(flat_data)\n",
        "y_out = CATEGORIES[y_out[0]]\n",
        "print(f'PREDICTED OUTPUT:{y_out}')\n"
      ],
      "metadata": {
        "colab": {
          "base_uri": "https://localhost:8080/",
          "height": 338
        },
        "id": "LJvDq9EDHdEB",
        "outputId": "421674d0-24a9-43dc-c879-7693d99e5903"
      },
      "execution_count": null,
      "outputs": [
        {
          "output_type": "stream",
          "name": "stdout",
          "text": [
            "Enter your URLhttps://img.freepik.com/premium-vector/realistic-soft-american-ice-cream-waffle-cone_8071-5377.jpg?w=2000\n",
            "(2000, 1711, 3)\n",
            "PREDICTED OUTPUT:ice cream cone\n"
          ]
        },
        {
          "output_type": "display_data",
          "data": {
            "text/plain": [
              "<Figure size 432x288 with 1 Axes>"
            ],
            "image/png": "[encoded data removed]"
          },
          "metadata": {
            "needs_background": "light"
          }
        },
        {
          "output_type": "stream",
          "name": "stdout",
          "text": [
            "time: 26.8 s (started: 2022-07-12 04:47:16 +00:00)\n"
          ]
        }
      ]
    },
    {
      "cell_type": "code",
      "source": [
        "# Testing a brand new Image\n",
        "flat_data = []\n",
        "url = input('Enter your URL')\n",
        "img = imread(url)\n",
        "img_resized = resize(img,(150,150,3))\n",
        "flat_data.append(img_resized.flatten())\n",
        "flat_data = np.array(flat_data)\n",
        "print(img.shape)\n",
        "plt.imshow(img_resized)\n",
        "y_out = model.predict(flat_data)\n",
        "y_out = CATEGORIES[y_out[0]]\n",
        "print(f'PREDICTED OUTPUT:{y_out}')\n"
      ],
      "metadata": {
        "id": "eJY41voBJKvA",
        "colab": {
          "base_uri": "https://localhost:8080/",
          "height": 338
        },
        "outputId": "92b2371e-e8d8-4189-edef-1c65bf40bf7b"
      },
      "execution_count": null,
      "outputs": [
        {
          "output_type": "stream",
          "name": "stdout",
          "text": [
            "Enter your URLhttps://upload.wikimedia.org/wikipedia/commons/thumb/e/ec/Sonnenblume_02_KMJ.jpg/640px-Sonnenblume_02_KMJ.jpg\n",
            "(646, 640, 3)\n",
            "PREDICTED OUTPUT:Sunflower\n"
          ]
        },
        {
          "output_type": "display_data",
          "data": {
            "text/plain": [
              "<Figure size 432x288 with 1 Axes>"
            ],
            "image/png": "[encoded data removed]"
          },
          "metadata": {
            "needs_background": "light"
          }
        },
        {
          "output_type": "stream",
          "name": "stdout",
          "text": [
            "time: 27.9 s (started: 2022-07-12 04:47:57 +00:00)\n"
          ]
        }
      ]
    },
    {
      "cell_type": "code",
      "source": [
        ""
      ],
      "metadata": {
        "id": "yTrTbXxQsMtQ"
      },
      "execution_count": null,
      "outputs": []
    }
  ],
  "metadata": {
    "colab": {
      "collapsed_sections": [],
      "name": "Image_Classification.ipynb",
      "provenance": [],
      "authorship_tag": "ABX9TyPGvkHK12i19EmK/lonC4qH",
      "include_colab_link": true
    },
    "kernelspec": {
      "display_name": "Python 3",
      "name": "python3"
    },
    "language_info": {
      "name": "python"
    }
  },
  "nbformat": 4,
  "nbformat_minor": 0
}